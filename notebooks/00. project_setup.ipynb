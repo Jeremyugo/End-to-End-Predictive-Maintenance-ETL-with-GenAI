{
 "cells": [
  {
   "cell_type": "markdown",
   "id": "737a4971",
   "metadata": {},
   "source": [
    "## Project Setup"
   ]
  },
  {
   "cell_type": "code",
   "execution_count": null,
   "id": "502c0b97",
   "metadata": {},
   "outputs": [
    {
     "name": "stdout",
     "output_type": "stream",
     "text": [
      "Environment variables loaded successfully.\n"
     ]
    }
   ],
   "source": [
    "# Import necessary libraries\n",
    "import json\n",
    "import sys\n",
    "sys.path.append(\"..\")\n",
    "\n",
    "from dotenv import load_dotenv\n",
    "load_dotenv(dotenv_path='../utils/.env')\n",
    "\n",
    "from utils.postgres_connector import PostgresConnector"
   ]
  },
  {
   "cell_type": "code",
   "execution_count": 2,
   "metadata": {},
   "outputs": [
    {
     "name": "stdout",
     "output_type": "stream",
     "text": [
      "Connected to PostgreSQL database.\n"
     ]
    }
   ],
   "source": [
    "connector = PostgresConnector()\n",
    "connector.connect_to_postgres()"
   ]
  },
  {
   "cell_type": "code",
   "execution_count": 3,
   "id": "7170e3e6",
   "metadata": {},
   "outputs": [
    {
     "name": "stdout",
     "output_type": "stream",
     "text": [
      "Database 'iot_platform' created successfully.\n"
     ]
    }
   ],
   "source": [
    "# create a new database to store sensor and turbine data\n",
    "connector.create_database('iot_platform')"
   ]
  },
  {
   "cell_type": "code",
   "execution_count": 4,
   "id": "a32b41d1",
   "metadata": {},
   "outputs": [
    {
     "name": "stdout",
     "output_type": "stream",
     "text": [
      "Switched to database 'iot_platform'.\n"
     ]
    }
   ],
   "source": [
    "connector.switch_database('iot_platform')"
   ]
  },
  {
   "cell_type": "code",
   "execution_count": 5,
   "id": "17209b6f",
   "metadata": {},
   "outputs": [
    {
     "name": "stdout",
     "output_type": "stream",
     "text": [
      "Query executed successfully.\n"
     ]
    }
   ],
   "source": [
    "create_schema_query = f\"\"\"\n",
    "    CREATE SCHEMA IF NOT EXISTS landing;\n",
    "\"\"\"\n",
    "\n",
    "connector.execute_query(create_schema_query)"
   ]
  },
  {
   "cell_type": "code",
   "execution_count": null,
   "id": "d172d803",
   "metadata": {},
   "outputs": [],
   "source": []
  },
  {
   "cell_type": "code",
   "execution_count": null,
   "id": "616dc6cd",
   "metadata": {},
   "outputs": [],
   "source": []
  }
 ],
 "metadata": {
  "kernelspec": {
   "display_name": "predictive_maintenance",
   "language": "python",
   "name": "python3"
  },
  "language_info": {
   "codemirror_mode": {
    "name": "ipython",
    "version": 3
   },
   "file_extension": ".py",
   "mimetype": "text/x-python",
   "name": "python",
   "nbconvert_exporter": "python",
   "pygments_lexer": "ipython3",
   "version": "3.10.18"
  }
 },
 "nbformat": 4,
 "nbformat_minor": 5
}
