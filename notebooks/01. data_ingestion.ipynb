{
 "cells": [
  {
   "cell_type": "markdown",
   "id": "1a7e46d5",
   "metadata": {},
   "source": [
    "## Data Ingestion - Spark Streaming (Bronze Layer)"
   ]
  },
  {
   "cell_type": "code",
   "execution_count": 1,
   "id": "aa26481d",
   "metadata": {},
   "outputs": [],
   "source": [
    "## Data Ingestion using PySpark Delta Lake\n",
    "from pyspark.sql import SparkSession\n",
    "import pyspark.sql.functions as F\n",
    "from pyspark.sql.types import StructType\n",
    "from pyspark.sql.streaming import StreamingQuery\n",
    "\n",
    "from pathlib import Path"
   ]
  },
  {
   "cell_type": "code",
   "execution_count": 2,
   "id": "aa0468b7",
   "metadata": {},
   "outputs": [
    {
     "name": "stderr",
     "output_type": "stream",
     "text": [
      "your 131072x1 screen size is bogus. expect trouble\n",
      "25/06/09 08:42:23 WARN Utils: Your hostname, HP-Pavilion-15-ec2121nr resolves to a loopback address: 127.0.1.1; using 10.255.255.254 instead (on interface lo)\n",
      "25/06/09 08:42:23 WARN Utils: Set SPARK_LOCAL_IP if you need to bind to another address\n"
     ]
    },
    {
     "name": "stdout",
     "output_type": "stream",
     "text": [
      ":: loading settings :: url = jar:file:/home/ubuntu/spark/jars/ivy-2.5.1.jar!/org/apache/ivy/core/settings/ivysettings.xml\n"
     ]
    },
    {
     "name": "stderr",
     "output_type": "stream",
     "text": [
      "Ivy Default Cache set to: /home/ubuntu/.ivy2/cache\n",
      "The jars for the packages stored in: /home/ubuntu/.ivy2/jars\n",
      "io.delta#delta-spark_2.12 added as a dependency\n",
      ":: resolving dependencies :: org.apache.spark#spark-submit-parent-00c8f41c-631e-41ff-be68-5d485bf77962;1.0\n",
      "\tconfs: [default]\n",
      "\tfound io.delta#delta-spark_2.12;3.2.0 in central\n",
      "\tfound io.delta#delta-storage;3.2.0 in central\n",
      "\tfound org.antlr#antlr4-runtime;4.9.3 in central\n",
      ":: resolution report :: resolve 215ms :: artifacts dl 9ms\n",
      "\t:: modules in use:\n",
      "\tio.delta#delta-spark_2.12;3.2.0 from central in [default]\n",
      "\tio.delta#delta-storage;3.2.0 from central in [default]\n",
      "\torg.antlr#antlr4-runtime;4.9.3 from central in [default]\n",
      "\t---------------------------------------------------------------------\n",
      "\t|                  |            modules            ||   artifacts   |\n",
      "\t|       conf       | number| search|dwnlded|evicted|| number|dwnlded|\n",
      "\t---------------------------------------------------------------------\n",
      "\t|      default     |   3   |   0   |   0   |   0   ||   3   |   0   |\n",
      "\t---------------------------------------------------------------------\n",
      ":: retrieving :: org.apache.spark#spark-submit-parent-00c8f41c-631e-41ff-be68-5d485bf77962\n",
      "\tconfs: [default]\n",
      "\t0 artifacts copied, 3 already retrieved (0kB/5ms)\n",
      "25/06/09 08:42:23 WARN NativeCodeLoader: Unable to load native-hadoop library for your platform... using builtin-java classes where applicable\n",
      "Setting default log level to \"WARN\".\n",
      "To adjust logging level use sc.setLogLevel(newLevel). For SparkR, use setLogLevel(newLevel).\n",
      "25/06/09 08:42:25 WARN Utils: Service 'SparkUI' could not bind on port 4040. Attempting port 4041.\n"
     ]
    }
   ],
   "source": [
    "# Initialize Spark Session\n",
    "spark = (\n",
    "    SparkSession.builder\n",
    "    .appName('iot_data_ingestion')\n",
    "    .getOrCreate()\n",
    ")"
   ]
  },
  {
   "cell_type": "code",
   "execution_count": 3,
   "id": "0fb8d1d8",
   "metadata": {},
   "outputs": [],
   "source": [
    "def infer_schema(file_path: str, format: str) -> StructType:\n",
    "    \n",
    "    match format:\n",
    "        case 'json':\n",
    "            inferred_schema = spark.read.json(file_path).schema\n",
    "        case 'parquet':\n",
    "            inferred_schema = spark.read.parquet(file_path).schema\n",
    "        case _:\n",
    "            raise ValueError(f\"Unsupported format: {format}\")\n",
    "    \n",
    "    return inferred_schema"
   ]
  },
  {
   "cell_type": "code",
   "execution_count": null,
   "id": "4ffbf459",
   "metadata": {},
   "outputs": [],
   "source": [
    "def ingest_data(\n",
    "    path_to_file: str,  \n",
    "    format: str,\n",
    "    checkpoint_path: str,\n",
    "    output_path: str\n",
    "    ) -> StreamingQuery|None:\n",
    "    \n",
    "    try:\n",
    "        # read streaming data with the specified schema\n",
    "        stream_df = (\n",
    "            spark.readStream\n",
    "            .format(format)\n",
    "            .option('maxFilesPerTrigger', 1)\n",
    "            .schema(infer_schema(path_to_file, format))\n",
    "            .load(path_to_file)\n",
    "        )\n",
    "        \n",
    "        # write the stream to a Delta table\n",
    "        return (\n",
    "            stream_df.writeStream\n",
    "            .format('delta')\n",
    "            .outputMode('append')\n",
    "            .option('checkpointLocation', checkpoint_path)\n",
    "            .option('mergeSchema', 'true')\n",
    "            .trigger(availableNow=True) # should be removed for production use/real-time streaming\n",
    "            .start(output_path)\n",
    "        )\n",
    "        \n",
    "    except Exception as e:\n",
    "        print(f\"Error reading stream from {path_to_file}: {e}\")\n",
    "        return"
   ]
  },
  {
   "cell_type": "code",
   "execution_count": 5,
   "id": "1a423c2b",
   "metadata": {},
   "outputs": [
    {
     "name": "stderr",
     "output_type": "stream",
     "text": [
      "25/06/09 08:46:33 WARN ResolveWriteToStream: spark.sql.adaptive.enabled is not supported in streaming DataFrames/Datasets and will be disabled.\n",
      "25/06/09 08:46:37 WARN SparkStringUtils: Truncated the string representation of a plan since it was too large. This behavior can be adjusted by setting 'spark.sql.debug.maxToStringFields'.\n",
      "                                                                                \r"
     ]
    }
   ],
   "source": [
    "# ingest turbine data\n",
    "turbine_query = ingest_data(\n",
    "    path_to_file='../data/landing/turbine',\n",
    "    format='json',\n",
    "    checkpoint_path='../checkpoints/bronze_turbine',\n",
    "    output_path='../data/bronze/bronze_turbine'\n",
    ")\n",
    "turbine_query.awaitTermination()"
   ]
  },
  {
   "cell_type": "code",
   "execution_count": 6,
   "id": "a91c9e37",
   "metadata": {},
   "outputs": [
    {
     "name": "stderr",
     "output_type": "stream",
     "text": [
      "25/06/09 08:46:48 WARN ResolveWriteToStream: spark.sql.adaptive.enabled is not supported in streaming DataFrames/Datasets and will be disabled.\n",
      "                                                                                \r"
     ]
    }
   ],
   "source": [
    "# ingest parts data\n",
    "parts_stream = ingest_data(\n",
    "    path_to_file='../data/landing/parts',\n",
    "    format='json',\n",
    "    checkpoint_path=f'../checkpoints/bronze_parts',\n",
    "    output_path='../data/bronze/bronze_parts'\n",
    ")\n",
    "parts_stream.awaitTermination()"
   ]
  },
  {
   "cell_type": "code",
   "execution_count": 7,
   "id": "1b8ef086",
   "metadata": {},
   "outputs": [
    {
     "name": "stderr",
     "output_type": "stream",
     "text": [
      "25/06/09 08:46:59 WARN ResolveWriteToStream: spark.sql.adaptive.enabled is not supported in streaming DataFrames/Datasets and will be disabled.\n"
     ]
    }
   ],
   "source": [
    "# ingest historical turbine status data\n",
    "turbine_status_query = ingest_data(\n",
    "    path_to_file='../data/landing/historical_turbine_status',\n",
    "    format='json',\n",
    "    checkpoint_path='../checkpoints/bronze_turbine_status',\n",
    "    output_path='../data/bronze/bronze_turbine_status'\n",
    ")\n",
    "turbine_status_query.awaitTermination()"
   ]
  },
  {
   "cell_type": "code",
   "execution_count": 8,
   "id": "92a95236",
   "metadata": {},
   "outputs": [
    {
     "name": "stderr",
     "output_type": "stream",
     "text": [
      "25/06/09 08:47:06 WARN ResolveWriteToStream: spark.sql.adaptive.enabled is not supported in streaming DataFrames/Datasets and will be disabled.\n",
      "                                                                                \r"
     ]
    }
   ],
   "source": [
    "# ingest incoming turbine data\n",
    "incoming_turbine_status_query = ingest_data(\n",
    "    path_to_file='../data/landing/incoming_data',\n",
    "    format='parquet',\n",
    "    checkpoint_path='../checkpoints/bronze_incoming_data',\n",
    "    output_path='../data/bronze/bronze_incoming_data'\n",
    ")\n",
    "incoming_turbine_status_query.awaitTermination()"
   ]
  },
  {
   "cell_type": "code",
   "execution_count": null,
   "id": "9da1afa6",
   "metadata": {},
   "outputs": [],
   "source": []
  },
  {
   "cell_type": "code",
   "execution_count": null,
   "id": "c2af5755",
   "metadata": {},
   "outputs": [],
   "source": []
  },
  {
   "cell_type": "code",
   "execution_count": null,
   "id": "609600cd",
   "metadata": {},
   "outputs": [],
   "source": []
  }
 ],
 "metadata": {
  "kernelspec": {
   "display_name": "predictive_maintenance",
   "language": "python",
   "name": "python3"
  },
  "language_info": {
   "codemirror_mode": {
    "name": "ipython",
    "version": 3
   },
   "file_extension": ".py",
   "mimetype": "text/x-python",
   "name": "python",
   "nbconvert_exporter": "python",
   "pygments_lexer": "ipython3",
   "version": "3.10.18"
  }
 },
 "nbformat": 4,
 "nbformat_minor": 5
}
