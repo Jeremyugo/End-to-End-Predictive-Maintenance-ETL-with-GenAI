{
 "cells": [
  {
   "cell_type": "code",
   "execution_count": 27,
   "id": "477f4d1f",
   "metadata": {},
   "outputs": [],
   "source": [
    "import pyspark.sql.functions as F\n",
    "from pyspark.sql import SparkSession"
   ]
  },
  {
   "cell_type": "code",
   "execution_count": 2,
   "id": "b2c8ad57",
   "metadata": {},
   "outputs": [
    {
     "name": "stderr",
     "output_type": "stream",
     "text": [
      "your 131072x1 screen size is bogus. expect trouble\n",
      "25/06/09 09:07:09 WARN Utils: Your hostname, HP-Pavilion-15-ec2121nr resolves to a loopback address: 127.0.1.1; using 10.255.255.254 instead (on interface lo)\n",
      "25/06/09 09:07:09 WARN Utils: Set SPARK_LOCAL_IP if you need to bind to another address\n"
     ]
    },
    {
     "name": "stdout",
     "output_type": "stream",
     "text": [
      ":: loading settings :: url = jar:file:/home/ubuntu/spark/jars/ivy-2.5.1.jar!/org/apache/ivy/core/settings/ivysettings.xml\n"
     ]
    },
    {
     "name": "stderr",
     "output_type": "stream",
     "text": [
      "Ivy Default Cache set to: /home/ubuntu/.ivy2/cache\n",
      "The jars for the packages stored in: /home/ubuntu/.ivy2/jars\n",
      "io.delta#delta-spark_2.12 added as a dependency\n",
      ":: resolving dependencies :: org.apache.spark#spark-submit-parent-4c089113-2781-41f3-8934-fd7549dcf913;1.0\n",
      "\tconfs: [default]\n",
      "\tfound io.delta#delta-spark_2.12;3.2.0 in central\n",
      "\tfound io.delta#delta-storage;3.2.0 in central\n",
      "\tfound org.antlr#antlr4-runtime;4.9.3 in central\n",
      ":: resolution report :: resolve 216ms :: artifacts dl 10ms\n",
      "\t:: modules in use:\n",
      "\tio.delta#delta-spark_2.12;3.2.0 from central in [default]\n",
      "\tio.delta#delta-storage;3.2.0 from central in [default]\n",
      "\torg.antlr#antlr4-runtime;4.9.3 from central in [default]\n",
      "\t---------------------------------------------------------------------\n",
      "\t|                  |            modules            ||   artifacts   |\n",
      "\t|       conf       | number| search|dwnlded|evicted|| number|dwnlded|\n",
      "\t---------------------------------------------------------------------\n",
      "\t|      default     |   3   |   0   |   0   |   0   ||   3   |   0   |\n",
      "\t---------------------------------------------------------------------\n",
      ":: retrieving :: org.apache.spark#spark-submit-parent-4c089113-2781-41f3-8934-fd7549dcf913\n",
      "\tconfs: [default]\n",
      "\t0 artifacts copied, 3 already retrieved (0kB/6ms)\n",
      "25/06/09 09:07:10 WARN NativeCodeLoader: Unable to load native-hadoop library for your platform... using builtin-java classes where applicable\n",
      "Setting default log level to \"WARN\".\n",
      "To adjust logging level use sc.setLogLevel(newLevel). For SparkR, use setLogLevel(newLevel).\n"
     ]
    }
   ],
   "source": [
    "spark = (\n",
    "    SparkSession.builder\n",
    "    .appName('iot_data_ingestion')\n",
    "    .getOrCreate()\n",
    ")"
   ]
  },
  {
   "cell_type": "code",
   "execution_count": 28,
   "id": "05b90b7f",
   "metadata": {},
   "outputs": [],
   "source": [
    "sensors = [col for col in spark.read.format('delta').load('../data/bronze/bronze_incoming_data').columns if 'sensor' in col]\n",
    "aggregations = [F.avg('energy').alias('avg_energy')]\n",
    "\n",
    "for sensor in sensors:\n",
    "    aggregations.append(F.stddev_pop(sensor).alias(f'std_{sensor}'))\n",
    "    aggregations.append(F.percentile_approx(sensor, [0.1, 0.3, 0.6, 0.8, 0.95]).alias(f'percentiles_{sensor}'))"
   ]
  },
  {
   "cell_type": "code",
   "execution_count": 31,
   "id": "a05a995e",
   "metadata": {},
   "outputs": [],
   "source": [
    "df = (\n",
    "    spark.read.format('delta')\n",
    "    .load('../data/bronze/bronze_incoming_data')\n",
    "    .withColumn('hourly_timestamp', F.date_trunc('hour', F.from_unixtime('timestamp')))\n",
    "    .groupBy('hourly_timestamp', 'turbine_id')\n",
    "    .agg(*aggregations)\n",
    ")"
   ]
  },
  {
   "cell_type": "code",
   "execution_count": 32,
   "id": "83447cdf",
   "metadata": {},
   "outputs": [
    {
     "name": "stderr",
     "output_type": "stream",
     "text": [
      "                                                                                \r"
     ]
    }
   ],
   "source": [
    "df.write.format('delta').mode('overwrite').option('overwriteSchema', 'true').save('../data/silver/silver_sensor_hourly')"
   ]
  },
  {
   "cell_type": "markdown",
   "id": "2a9e770c",
   "metadata": {},
   "source": [
    "**Note:** a more scalable solution would be to switch to streaming API and compute the aggregation with a ~3hours watermark and MERGE (upserting) the final output. For this demo clarity we we'll go with a full table update instead."
   ]
  },
  {
   "cell_type": "code",
   "execution_count": null,
   "id": "4b521b3b",
   "metadata": {},
   "outputs": [],
   "source": [
    "# streaming_df = (\n",
    "#     spark.readStream.format('delta')\n",
    "#     .load('../data/bronze/bronze_incoming_data')\n",
    "#     .withColumn('event_time', F.from_unixtime('timestamp'))\n",
    "#     .withWatermark('event_time', '3 hours')  # watermark to handle late data\n",
    "#     .withColumn('hourly_timestamp', F.date_trunc('hour', F.col('event_time')))\n",
    "#     .groupBy('hourly_timestamp')\n",
    "#     .agg(*aggregations)\n",
    "# )\n",
    "\n",
    "\n",
    "# # ---\n",
    "# from delta.tables import DeltaTable\n",
    "\n",
    "# def upsert_to_silver(microbatch_df, batch_id):\n",
    "#     silver_path = '../data/silver/silver_sensor_hourly'\n",
    "    \n",
    "#     if DeltaTable.isDeltaTable(spark, silver_path):\n",
    "#         silver_table = DeltaTable.forPath(spark, silver_path)\n",
    "#         (\n",
    "#             silver_table.alias(\"target\")\n",
    "#             .merge(\n",
    "#                 microbatch_df.alias(\"source\"),\n",
    "#                 \"target.hourly_timestamp = source.hourly_timestamp\"\n",
    "#             )\n",
    "#             .whenMatchedUpdateAll()\n",
    "#             .whenNotMatchedInsertAll()\n",
    "#             .execute()\n",
    "#         )\n",
    "#     else:\n",
    "#         # First time: just write the full table\n",
    "#         microbatch_df.write.format(\"delta\").save(silver_path)\n",
    "\n",
    "\n",
    "# # ---\n",
    "# query = (\n",
    "#     streaming_df.writeStream\n",
    "#     .outputMode(\"update\")  # or \"complete\", depending on your aggregation\n",
    "#     .foreachBatch(upsert_to_silver)\n",
    "#     .option(\"checkpointLocation\", \"../checkpoints/silver_sensor_hourly\")\n",
    "#     .start()\n",
    "# )\n",
    "\n",
    "# query.awaitTermination()"
   ]
  },
  {
   "cell_type": "code",
   "execution_count": null,
   "id": "5d1e5290",
   "metadata": {},
   "outputs": [],
   "source": []
  },
  {
   "cell_type": "code",
   "execution_count": null,
   "id": "de6d0fb1",
   "metadata": {},
   "outputs": [],
   "source": []
  },
  {
   "cell_type": "code",
   "execution_count": null,
   "id": "8f650c12",
   "metadata": {},
   "outputs": [],
   "source": []
  },
  {
   "cell_type": "code",
   "execution_count": null,
   "id": "bc5368bc",
   "metadata": {},
   "outputs": [],
   "source": []
  },
  {
   "cell_type": "code",
   "execution_count": null,
   "id": "1cb791bb",
   "metadata": {},
   "outputs": [],
   "source": []
  },
  {
   "cell_type": "code",
   "execution_count": null,
   "id": "c70cc616",
   "metadata": {},
   "outputs": [],
   "source": []
  }
 ],
 "metadata": {
  "kernelspec": {
   "display_name": "predictive_maintenance",
   "language": "python",
   "name": "python3"
  },
  "language_info": {
   "codemirror_mode": {
    "name": "ipython",
    "version": 3
   },
   "file_extension": ".py",
   "mimetype": "text/x-python",
   "name": "python",
   "nbconvert_exporter": "python",
   "pygments_lexer": "ipython3",
   "version": "3.10.18"
  }
 },
 "nbformat": 4,
 "nbformat_minor": 5
}
