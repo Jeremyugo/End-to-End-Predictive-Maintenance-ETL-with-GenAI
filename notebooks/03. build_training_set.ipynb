{
 "cells": [
  {
   "cell_type": "code",
   "execution_count": 1,
   "id": "ba9a8716",
   "metadata": {},
   "outputs": [],
   "source": [
    "import pyspark.sql.functions as F\n",
    "from pyspark.sql import SparkSession"
   ]
  },
  {
   "cell_type": "code",
   "execution_count": 2,
   "metadata": {},
   "outputs": [
    {
     "name": "stderr",
     "output_type": "stream",
     "text": [
      "your 131072x1 screen size is bogus. expect trouble\n",
      "25/06/09 09:49:53 WARN Utils: Your hostname, HP-Pavilion-15-ec2121nr resolves to a loopback address: 127.0.1.1; using 10.255.255.254 instead (on interface lo)\n",
      "25/06/09 09:49:53 WARN Utils: Set SPARK_LOCAL_IP if you need to bind to another address\n"
     ]
    },
    {
     "name": "stdout",
     "output_type": "stream",
     "text": [
      ":: loading settings :: url = jar:file:/home/ubuntu/spark/jars/ivy-2.5.1.jar!/org/apache/ivy/core/settings/ivysettings.xml\n"
     ]
    },
    {
     "name": "stderr",
     "output_type": "stream",
     "text": [
      "Ivy Default Cache set to: /home/ubuntu/.ivy2/cache\n",
      "The jars for the packages stored in: /home/ubuntu/.ivy2/jars\n",
      "io.delta#delta-spark_2.12 added as a dependency\n",
      ":: resolving dependencies :: org.apache.spark#spark-submit-parent-0179cedd-fe76-41c9-a1d4-0f2feebb4609;1.0\n",
      "\tconfs: [default]\n",
      "\tfound io.delta#delta-spark_2.12;3.2.0 in central\n",
      "\tfound io.delta#delta-storage;3.2.0 in central\n",
      "\tfound org.antlr#antlr4-runtime;4.9.3 in central\n",
      ":: resolution report :: resolve 162ms :: artifacts dl 7ms\n",
      "\t:: modules in use:\n",
      "\tio.delta#delta-spark_2.12;3.2.0 from central in [default]\n",
      "\tio.delta#delta-storage;3.2.0 from central in [default]\n",
      "\torg.antlr#antlr4-runtime;4.9.3 from central in [default]\n",
      "\t---------------------------------------------------------------------\n",
      "\t|                  |            modules            ||   artifacts   |\n",
      "\t|       conf       | number| search|dwnlded|evicted|| number|dwnlded|\n",
      "\t---------------------------------------------------------------------\n",
      "\t|      default     |   3   |   0   |   0   |   0   ||   3   |   0   |\n",
      "\t---------------------------------------------------------------------\n",
      ":: retrieving :: org.apache.spark#spark-submit-parent-0179cedd-fe76-41c9-a1d4-0f2feebb4609\n",
      "\tconfs: [default]\n",
      "\t0 artifacts copied, 3 already retrieved (0kB/5ms)\n",
      "25/06/09 09:49:53 WARN NativeCodeLoader: Unable to load native-hadoop library for your platform... using builtin-java classes where applicable\n",
      "Setting default log level to \"WARN\".\n",
      "To adjust logging level use sc.setLogLevel(newLevel). For SparkR, use setLogLevel(newLevel).\n",
      "25/06/09 09:49:54 WARN Utils: Service 'SparkUI' could not bind on port 4040. Attempting port 4041.\n"
     ]
    }
   ],
   "source": [
    "spark = (\n",
    "    SparkSession.builder\n",
    "    .appName('iot_data_ingestion')\n",
    "    .getOrCreate()\n",
    ")"
   ]
  },
  {
   "cell_type": "code",
   "execution_count": 3,
   "metadata": {},
   "outputs": [],
   "source": [
    "turbine = spark.read.format('delta').load('../data/bronze/bronze_turbine')\n",
    "health = spark.read.format('delta').load('../data/bronze/bronze_turbine_status')\n",
    "sensor_hourly = spark.read.format('delta').load('../data/silver/silver_sensor_hourly')"
   ]
  },
  {
   "cell_type": "code",
   "execution_count": 8,
   "metadata": {},
   "outputs": [],
   "source": [
    "(\n",
    "    sensor_hourly\n",
    "    .join(turbine, 'turbine_id', 'inner')\n",
    "    .join(health, 'turbine_id', 'inner')\n",
    "    .write.format('delta')\n",
    "    .mode('overwrite')\n",
    "    .option('overwriteSchema', 'true')\n",
    "    .save('../data/silver/spark_turbine_training_dataset')\n",
    ")"
   ]
  },
  {
   "cell_type": "code",
   "execution_count": 9,
   "id": "b3807d15",
   "metadata": {},
   "outputs": [],
   "source": [
    "spark_training_dataset = spark.read.format('delta').load('../data/silver/spark_turbine_training_dataset')\n",
    "spark_training_dataset.createOrReplaceTempView('spark_turbine_training_dataset')"
   ]
  },
  {
   "cell_type": "code",
   "execution_count": 11,
   "id": "1c74fafb",
   "metadata": {},
   "outputs": [
    {
     "name": "stdout",
     "output_type": "stream",
     "text": [
      "+--------------------+-------------------+-------------------+------------------+--------------------+------------------+--------------------+------------------+--------------------+------------------+--------------------+------------------+--------------------+------------------+--------------------+-------+--------+-----------------+----------+--------+-------------------+---------------+----------+--------------------+----------+\n",
      "|          turbine_id|   hourly_timestamp|         avg_energy|      std_sensor_E|percentiles_sensor_E|      std_sensor_C|percentiles_sensor_C|      std_sensor_B|percentiles_sensor_B|      std_sensor_A|percentiles_sensor_A|      std_sensor_F|percentiles_sensor_F|      std_sensor_D|percentiles_sensor_D|country|     lat|         location|      long|   model|              state|abnormal_sensor|  end_time|  maintenance_report|start_time|\n",
      "+--------------------+-------------------+-------------------+------------------+--------------------+------------------+--------------------+------------------+--------------------+------------------+--------------------+------------------+--------------------+------------------+--------------------+-------+--------+-----------------+----------+--------+-------------------+---------------+----------+--------------------+----------+\n",
      "|00f27248-1f4f-e17...|2024-01-16 10:00:00|0.12839653721057287|2.3546260863866495|[-1.5755402485986...|3.3330563526547747|[-5.0673817419398...| 1.926331925310217|[-3.3145793290229...|1.0656088831997517|[-2.4048551001751...|1.8913049031607985|[-2.6510783819307...| 2.230040196141461|[-3.2354939225676...|     US|42.24113|     Crystal Lake|  -88.3162|EpicWind|    America/Chicago|             ok|1708018254|                NULL|1705423023|\n",
      "|027ee813-8748-360...|2024-01-16 10:00:00| 0.5219655664914616| 2.050527227045876|[-1.4480092711028...|2.9959428687341796|[-4.8676809322182...| 2.389565647376234|[-3.7657571941311...|1.1772284935317376|[-2.3509605849731...| 2.070701452880171|[-2.8795619651126...|2.2431783821208624|[-2.9593734758660...|     US|33.35283|          Gilbert|-111.78903|EpicWind|    America/Phoenix|             ok|1708019510|                NULL|1705423461|\n",
      "|0336f273-8fac-d32...|2024-01-16 10:00:00| 0.2032977106534712|  2.60500718033678|[-2.2534942788992...| 3.091891126422553|[-4.2851691757246...| 2.159258292741417|[-3.8537320418309...|1.0052298468594447|[-2.5319525992849...|1.9802755483082815|[-2.8946702964108...| 2.200496865180852|[-2.8538156434808...|     US|41.72059|   Evergreen Park| -87.70172|EpicWind|    America/Chicago|             ok|1708019629|                NULL|1705423767|\n",
      "|0362fcc3-6887-ea1...|2024-01-16 10:00:00| 0.3208386750656154|2.3232306231003776|[-1.8228387315330...| 3.321686033092047|[-4.7024778441391...|2.1427556295181964|[-3.4860129560590...|1.0524812855749104|[-2.2957320152959...| 1.882344580053594|[-2.6761856489985...| 2.238119767651918|[-3.2853154108022...|     US|40.65995|           Kearns|-111.99633|EpicWind|     America/Denver|             ok|1708020949|                NULL|1705424058|\n",
      "|066362c8-2f65-d38...|2024-01-16 10:00:00|0.11666264839450793|2.7840771558387734|[-2.0231032576206...|3.1987520627753696|[-5.0332234495762...| 6.244759574589365|[-6.6296879063143...|1.0583414882823796|[-2.4608423332247...|2.0715257507043945|[-2.6765492857128...|    2.331885439821|[-3.1536172011410...|     US|41.15376|      Bourbonnais| -87.88754|EpicWind|    America/Chicago|       sensor_B|1708019763|Issue: Tower corr...|1705423561|\n",
      "|06e82a01-2b5c-5cd...|2024-01-16 10:00:00|0.16026953152654533|2.6143815605861684|[-1.8748836847816...|3.3099166129985447|[-5.8386446713464...| 2.238091118145163|[-3.4221931417183...| 1.035242670298348|[-2.3516254915895...|2.0676868613732178|[-2.9713939235944...|2.2005367390687085|[-3.0918276143137...|     US|26.91756|Punta Gorda Isles| -82.07842|EpicWind|   America/New_York|             ok|1708017161|                NULL|1705423885|\n",
      "|088b0d61-e9c2-8aa...|2024-01-16 10:00:00|0.11174419654228844| 2.511005251494821|[-1.9826735092802...| 3.081711785406494|[-4.8607050986391...| 2.282493945517724|[-3.7950784742461...|1.0056742676661734|[-2.2701777745203...| 2.004466310820171|[-2.7438759631613...|2.2022900301018002|[-2.9283732585080...|     US|28.90054|          Deltona| -81.26367|EpicWind|   America/New_York|             ok|1708018954|                NULL|1705422864|\n",
      "|0d65babb-1be1-517...|2024-01-16 10:00:00|0.09785310435151484|2.7886440718316665|[-1.8571218149256...|  3.23596006730982|[-4.2759179845093...|1.9717605260195463|[-3.4000438735108...|1.1427069772699208|[-2.3058057227328...|  2.05231991321956|[-2.9933494354814...| 2.201451246592318|[-3.1053395696950...|     US|35.05266|     Fayetteville| -78.87836|EpicWind|   America/New_York|             ok|1708018955|                NULL|1705423538|\n",
      "|1032a897-3a2c-995...|2024-01-16 10:00:00|0.14076499230205283|2.6126266062279835|[-2.1722919047252...| 3.585376334791254|[-5.5584947565362...| 2.121171211482312|[-3.9329559160372...|0.9746521483167319|[-2.1668456117969...| 2.019486364310631|[-2.9906067679309...| 2.215632066247522|[-3.3013847536541...|     US| 47.4943| Bryn Mawr-Skyway|-122.24092|EpicWind|America/Los_Angeles|             ok|1708019309|                NULL|1705423166|\n",
      "|10cc965d-3f53-178...|2024-01-16 10:00:00|0.09778984131003063| 2.144736503871012|[-1.6622831672596...|2.9411781778563553|[-4.3823187397438...| 3.937513553235122|[-5.4467250152113...|0.9893776044034928|[-2.4177294342063...|1.9385164963205122|[-2.7340226724226...|2.4415889422175177|[-3.2808043290346...|     US|47.64995|      Opportunity|-117.23991|EpicWind|America/Los_Angeles|       sensor_B|1708017729|\\nIssue: Tower Fo...|1705423110|\n",
      "+--------------------+-------------------+-------------------+------------------+--------------------+------------------+--------------------+------------------+--------------------+------------------+--------------------+------------------+--------------------+------------------+--------------------+-------+--------+-----------------+----------+--------+-------------------+---------------+----------+--------------------+----------+\n",
      "only showing top 10 rows\n",
      "\n"
     ]
    }
   ],
   "source": [
    "spark.sql(\"SELECT * FROM spark_turbine_training_dataset\").show(10)"
   ]
  },
  {
   "cell_type": "code",
   "execution_count": null,
   "id": "50cbca42",
   "metadata": {},
   "outputs": [],
   "source": []
  }
 ],
 "metadata": {
  "kernelspec": {
   "display_name": "predictive_maintenance",
   "language": "python",
   "name": "python3"
  },
  "language_info": {
   "codemirror_mode": {
    "name": "ipython",
    "version": 3
   },
   "file_extension": ".py",
   "mimetype": "text/x-python",
   "name": "python",
   "nbconvert_exporter": "python",
   "pygments_lexer": "ipython3",
   "version": "3.10.18"
  }
 },
 "nbformat": 4,
 "nbformat_minor": 5
}
